{
 "cells": [
  {
   "cell_type": "markdown",
   "metadata": {},
   "source": [
    "# Shopify's Data Science Intern Challenge, Brandon Law 2022\n",
    "\n",
    "On Shopify, we have exactly 100 sneaker shops, and each of these shops sells only one model of shoe. We want to do some analysis of the average order value (AOV). When we look at orders data over a 30 day window, we naively calculate an AOV of $3145.13. Given that we know these shops are selling sneakers, a relatively affordable item, something seems wrong with our analysis. \n",
    "1. Think about what could be going wrong with our calculation. Think about a better way to evaluate this data. \n",
    "2. What metric would you report for this dataset?\n",
    "3. What is its value?"
   ]
  },
  {
   "cell_type": "markdown",
   "metadata": {},
   "source": [
    "## Import data"
   ]
  },
  {
   "cell_type": "code",
   "execution_count": 1,
   "metadata": {},
   "outputs": [],
   "source": [
    "import pandas as pd\n",
    "import numpy as np\n",
    "import matplotlib.pyplot as plt\n",
    "import seaborn as sns"
   ]
  },
  {
   "cell_type": "code",
   "execution_count": 2,
   "metadata": {},
   "outputs": [
    {
     "data": {
      "text/html": [
       "<div>\n",
       "<style scoped>\n",
       "    .dataframe tbody tr th:only-of-type {\n",
       "        vertical-align: middle;\n",
       "    }\n",
       "\n",
       "    .dataframe tbody tr th {\n",
       "        vertical-align: top;\n",
       "    }\n",
       "\n",
       "    .dataframe thead th {\n",
       "        text-align: right;\n",
       "    }\n",
       "</style>\n",
       "<table border=\"1\" class=\"dataframe\">\n",
       "  <thead>\n",
       "    <tr style=\"text-align: right;\">\n",
       "      <th></th>\n",
       "      <th>order_id</th>\n",
       "      <th>shop_id</th>\n",
       "      <th>user_id</th>\n",
       "      <th>order_amount</th>\n",
       "      <th>total_items</th>\n",
       "      <th>payment_method</th>\n",
       "      <th>created_at</th>\n",
       "    </tr>\n",
       "  </thead>\n",
       "  <tbody>\n",
       "    <tr>\n",
       "      <th>0</th>\n",
       "      <td>1</td>\n",
       "      <td>53</td>\n",
       "      <td>746</td>\n",
       "      <td>224</td>\n",
       "      <td>2</td>\n",
       "      <td>cash</td>\n",
       "      <td>2017-03-13 12:36:56</td>\n",
       "    </tr>\n",
       "    <tr>\n",
       "      <th>1</th>\n",
       "      <td>2</td>\n",
       "      <td>92</td>\n",
       "      <td>925</td>\n",
       "      <td>90</td>\n",
       "      <td>1</td>\n",
       "      <td>cash</td>\n",
       "      <td>2017-03-03 17:38:52</td>\n",
       "    </tr>\n",
       "    <tr>\n",
       "      <th>2</th>\n",
       "      <td>3</td>\n",
       "      <td>44</td>\n",
       "      <td>861</td>\n",
       "      <td>144</td>\n",
       "      <td>1</td>\n",
       "      <td>cash</td>\n",
       "      <td>2017-03-14 4:23:56</td>\n",
       "    </tr>\n",
       "    <tr>\n",
       "      <th>3</th>\n",
       "      <td>4</td>\n",
       "      <td>18</td>\n",
       "      <td>935</td>\n",
       "      <td>156</td>\n",
       "      <td>1</td>\n",
       "      <td>credit_card</td>\n",
       "      <td>2017-03-26 12:43:37</td>\n",
       "    </tr>\n",
       "    <tr>\n",
       "      <th>4</th>\n",
       "      <td>5</td>\n",
       "      <td>18</td>\n",
       "      <td>883</td>\n",
       "      <td>156</td>\n",
       "      <td>1</td>\n",
       "      <td>credit_card</td>\n",
       "      <td>2017-03-01 4:35:11</td>\n",
       "    </tr>\n",
       "    <tr>\n",
       "      <th>...</th>\n",
       "      <td>...</td>\n",
       "      <td>...</td>\n",
       "      <td>...</td>\n",
       "      <td>...</td>\n",
       "      <td>...</td>\n",
       "      <td>...</td>\n",
       "      <td>...</td>\n",
       "    </tr>\n",
       "    <tr>\n",
       "      <th>4995</th>\n",
       "      <td>4996</td>\n",
       "      <td>73</td>\n",
       "      <td>993</td>\n",
       "      <td>330</td>\n",
       "      <td>2</td>\n",
       "      <td>debit</td>\n",
       "      <td>2017-03-30 13:47:17</td>\n",
       "    </tr>\n",
       "    <tr>\n",
       "      <th>4996</th>\n",
       "      <td>4997</td>\n",
       "      <td>48</td>\n",
       "      <td>789</td>\n",
       "      <td>234</td>\n",
       "      <td>2</td>\n",
       "      <td>cash</td>\n",
       "      <td>2017-03-16 20:36:16</td>\n",
       "    </tr>\n",
       "    <tr>\n",
       "      <th>4997</th>\n",
       "      <td>4998</td>\n",
       "      <td>56</td>\n",
       "      <td>867</td>\n",
       "      <td>351</td>\n",
       "      <td>3</td>\n",
       "      <td>cash</td>\n",
       "      <td>2017-03-19 5:42:42</td>\n",
       "    </tr>\n",
       "    <tr>\n",
       "      <th>4998</th>\n",
       "      <td>4999</td>\n",
       "      <td>60</td>\n",
       "      <td>825</td>\n",
       "      <td>354</td>\n",
       "      <td>2</td>\n",
       "      <td>credit_card</td>\n",
       "      <td>2017-03-16 14:51:18</td>\n",
       "    </tr>\n",
       "    <tr>\n",
       "      <th>4999</th>\n",
       "      <td>5000</td>\n",
       "      <td>44</td>\n",
       "      <td>734</td>\n",
       "      <td>288</td>\n",
       "      <td>2</td>\n",
       "      <td>debit</td>\n",
       "      <td>2017-03-18 15:48:18</td>\n",
       "    </tr>\n",
       "  </tbody>\n",
       "</table>\n",
       "<p>5000 rows × 7 columns</p>\n",
       "</div>"
      ],
      "text/plain": [
       "      order_id  shop_id  user_id  order_amount  total_items payment_method  \\\n",
       "0            1       53      746           224            2           cash   \n",
       "1            2       92      925            90            1           cash   \n",
       "2            3       44      861           144            1           cash   \n",
       "3            4       18      935           156            1    credit_card   \n",
       "4            5       18      883           156            1    credit_card   \n",
       "...        ...      ...      ...           ...          ...            ...   \n",
       "4995      4996       73      993           330            2          debit   \n",
       "4996      4997       48      789           234            2           cash   \n",
       "4997      4998       56      867           351            3           cash   \n",
       "4998      4999       60      825           354            2    credit_card   \n",
       "4999      5000       44      734           288            2          debit   \n",
       "\n",
       "               created_at  \n",
       "0     2017-03-13 12:36:56  \n",
       "1     2017-03-03 17:38:52  \n",
       "2      2017-03-14 4:23:56  \n",
       "3     2017-03-26 12:43:37  \n",
       "4      2017-03-01 4:35:11  \n",
       "...                   ...  \n",
       "4995  2017-03-30 13:47:17  \n",
       "4996  2017-03-16 20:36:16  \n",
       "4997   2017-03-19 5:42:42  \n",
       "4998  2017-03-16 14:51:18  \n",
       "4999  2017-03-18 15:48:18  \n",
       "\n",
       "[5000 rows x 7 columns]"
      ]
     },
     "execution_count": 2,
     "metadata": {},
     "output_type": "execute_result"
    }
   ],
   "source": [
    "df = pd.read_csv('2019 Winter Data Science Intern Challenge Data Set - Sheet1.csv')\n",
    "df"
   ]
  },
  {
   "cell_type": "code",
   "execution_count": 3,
   "metadata": {},
   "outputs": [
    {
     "data": {
      "text/html": [
       "<div>\n",
       "<style scoped>\n",
       "    .dataframe tbody tr th:only-of-type {\n",
       "        vertical-align: middle;\n",
       "    }\n",
       "\n",
       "    .dataframe tbody tr th {\n",
       "        vertical-align: top;\n",
       "    }\n",
       "\n",
       "    .dataframe thead th {\n",
       "        text-align: right;\n",
       "    }\n",
       "</style>\n",
       "<table border=\"1\" class=\"dataframe\">\n",
       "  <thead>\n",
       "    <tr style=\"text-align: right;\">\n",
       "      <th></th>\n",
       "      <th>order_id</th>\n",
       "      <th>shop_id</th>\n",
       "      <th>user_id</th>\n",
       "      <th>order_amount</th>\n",
       "      <th>total_items</th>\n",
       "    </tr>\n",
       "  </thead>\n",
       "  <tbody>\n",
       "    <tr>\n",
       "      <th>count</th>\n",
       "      <td>5000.000000</td>\n",
       "      <td>5000.000000</td>\n",
       "      <td>5000.000000</td>\n",
       "      <td>5000.000000</td>\n",
       "      <td>5000.00000</td>\n",
       "    </tr>\n",
       "    <tr>\n",
       "      <th>mean</th>\n",
       "      <td>2500.500000</td>\n",
       "      <td>50.078800</td>\n",
       "      <td>849.092400</td>\n",
       "      <td>3145.128000</td>\n",
       "      <td>8.78720</td>\n",
       "    </tr>\n",
       "    <tr>\n",
       "      <th>std</th>\n",
       "      <td>1443.520003</td>\n",
       "      <td>29.006118</td>\n",
       "      <td>87.798982</td>\n",
       "      <td>41282.539349</td>\n",
       "      <td>116.32032</td>\n",
       "    </tr>\n",
       "    <tr>\n",
       "      <th>min</th>\n",
       "      <td>1.000000</td>\n",
       "      <td>1.000000</td>\n",
       "      <td>607.000000</td>\n",
       "      <td>90.000000</td>\n",
       "      <td>1.00000</td>\n",
       "    </tr>\n",
       "    <tr>\n",
       "      <th>25%</th>\n",
       "      <td>1250.750000</td>\n",
       "      <td>24.000000</td>\n",
       "      <td>775.000000</td>\n",
       "      <td>163.000000</td>\n",
       "      <td>1.00000</td>\n",
       "    </tr>\n",
       "    <tr>\n",
       "      <th>50%</th>\n",
       "      <td>2500.500000</td>\n",
       "      <td>50.000000</td>\n",
       "      <td>849.000000</td>\n",
       "      <td>284.000000</td>\n",
       "      <td>2.00000</td>\n",
       "    </tr>\n",
       "    <tr>\n",
       "      <th>75%</th>\n",
       "      <td>3750.250000</td>\n",
       "      <td>75.000000</td>\n",
       "      <td>925.000000</td>\n",
       "      <td>390.000000</td>\n",
       "      <td>3.00000</td>\n",
       "    </tr>\n",
       "    <tr>\n",
       "      <th>max</th>\n",
       "      <td>5000.000000</td>\n",
       "      <td>100.000000</td>\n",
       "      <td>999.000000</td>\n",
       "      <td>704000.000000</td>\n",
       "      <td>2000.00000</td>\n",
       "    </tr>\n",
       "  </tbody>\n",
       "</table>\n",
       "</div>"
      ],
      "text/plain": [
       "          order_id      shop_id      user_id   order_amount  total_items\n",
       "count  5000.000000  5000.000000  5000.000000    5000.000000   5000.00000\n",
       "mean   2500.500000    50.078800   849.092400    3145.128000      8.78720\n",
       "std    1443.520003    29.006118    87.798982   41282.539349    116.32032\n",
       "min       1.000000     1.000000   607.000000      90.000000      1.00000\n",
       "25%    1250.750000    24.000000   775.000000     163.000000      1.00000\n",
       "50%    2500.500000    50.000000   849.000000     284.000000      2.00000\n",
       "75%    3750.250000    75.000000   925.000000     390.000000      3.00000\n",
       "max    5000.000000   100.000000   999.000000  704000.000000   2000.00000"
      ]
     },
     "execution_count": 3,
     "metadata": {},
     "output_type": "execute_result"
    }
   ],
   "source": [
    "df.describe()"
   ]
  },
  {
   "cell_type": "code",
   "execution_count": 4,
   "metadata": {},
   "outputs": [
    {
     "data": {
      "text/html": [
       "<div>\n",
       "<style scoped>\n",
       "    .dataframe tbody tr th:only-of-type {\n",
       "        vertical-align: middle;\n",
       "    }\n",
       "\n",
       "    .dataframe tbody tr th {\n",
       "        vertical-align: top;\n",
       "    }\n",
       "\n",
       "    .dataframe thead th {\n",
       "        text-align: right;\n",
       "    }\n",
       "</style>\n",
       "<table border=\"1\" class=\"dataframe\">\n",
       "  <thead>\n",
       "    <tr style=\"text-align: right;\">\n",
       "      <th></th>\n",
       "      <th>order_id</th>\n",
       "      <th>shop_id</th>\n",
       "      <th>user_id</th>\n",
       "      <th>order_amount</th>\n",
       "      <th>total_items</th>\n",
       "      <th>payment_method</th>\n",
       "      <th>created_at</th>\n",
       "    </tr>\n",
       "  </thead>\n",
       "  <tbody>\n",
       "    <tr>\n",
       "      <th>2153</th>\n",
       "      <td>2154</td>\n",
       "      <td>42</td>\n",
       "      <td>607</td>\n",
       "      <td>704000</td>\n",
       "      <td>2000</td>\n",
       "      <td>credit_card</td>\n",
       "      <td>2017-03-12 4:00:00</td>\n",
       "    </tr>\n",
       "    <tr>\n",
       "      <th>3332</th>\n",
       "      <td>3333</td>\n",
       "      <td>42</td>\n",
       "      <td>607</td>\n",
       "      <td>704000</td>\n",
       "      <td>2000</td>\n",
       "      <td>credit_card</td>\n",
       "      <td>2017-03-24 4:00:00</td>\n",
       "    </tr>\n",
       "    <tr>\n",
       "      <th>520</th>\n",
       "      <td>521</td>\n",
       "      <td>42</td>\n",
       "      <td>607</td>\n",
       "      <td>704000</td>\n",
       "      <td>2000</td>\n",
       "      <td>credit_card</td>\n",
       "      <td>2017-03-02 4:00:00</td>\n",
       "    </tr>\n",
       "    <tr>\n",
       "      <th>1602</th>\n",
       "      <td>1603</td>\n",
       "      <td>42</td>\n",
       "      <td>607</td>\n",
       "      <td>704000</td>\n",
       "      <td>2000</td>\n",
       "      <td>credit_card</td>\n",
       "      <td>2017-03-17 4:00:00</td>\n",
       "    </tr>\n",
       "    <tr>\n",
       "      <th>60</th>\n",
       "      <td>61</td>\n",
       "      <td>42</td>\n",
       "      <td>607</td>\n",
       "      <td>704000</td>\n",
       "      <td>2000</td>\n",
       "      <td>credit_card</td>\n",
       "      <td>2017-03-04 4:00:00</td>\n",
       "    </tr>\n",
       "    <tr>\n",
       "      <th>...</th>\n",
       "      <td>...</td>\n",
       "      <td>...</td>\n",
       "      <td>...</td>\n",
       "      <td>...</td>\n",
       "      <td>...</td>\n",
       "      <td>...</td>\n",
       "      <td>...</td>\n",
       "    </tr>\n",
       "    <tr>\n",
       "      <th>3871</th>\n",
       "      <td>3872</td>\n",
       "      <td>92</td>\n",
       "      <td>818</td>\n",
       "      <td>90</td>\n",
       "      <td>1</td>\n",
       "      <td>debit</td>\n",
       "      <td>2017-03-18 9:10:08</td>\n",
       "    </tr>\n",
       "    <tr>\n",
       "      <th>2503</th>\n",
       "      <td>2504</td>\n",
       "      <td>92</td>\n",
       "      <td>935</td>\n",
       "      <td>90</td>\n",
       "      <td>1</td>\n",
       "      <td>credit_card</td>\n",
       "      <td>2017-03-28 2:30:26</td>\n",
       "    </tr>\n",
       "    <tr>\n",
       "      <th>4414</th>\n",
       "      <td>4415</td>\n",
       "      <td>92</td>\n",
       "      <td>927</td>\n",
       "      <td>90</td>\n",
       "      <td>1</td>\n",
       "      <td>credit_card</td>\n",
       "      <td>2017-03-17 9:57:01</td>\n",
       "    </tr>\n",
       "    <tr>\n",
       "      <th>3363</th>\n",
       "      <td>3364</td>\n",
       "      <td>92</td>\n",
       "      <td>730</td>\n",
       "      <td>90</td>\n",
       "      <td>1</td>\n",
       "      <td>credit_card</td>\n",
       "      <td>2017-03-11 23:20:31</td>\n",
       "    </tr>\n",
       "    <tr>\n",
       "      <th>2092</th>\n",
       "      <td>2093</td>\n",
       "      <td>92</td>\n",
       "      <td>986</td>\n",
       "      <td>90</td>\n",
       "      <td>1</td>\n",
       "      <td>debit</td>\n",
       "      <td>2017-03-04 6:44:05</td>\n",
       "    </tr>\n",
       "  </tbody>\n",
       "</table>\n",
       "<p>5000 rows × 7 columns</p>\n",
       "</div>"
      ],
      "text/plain": [
       "      order_id  shop_id  user_id  order_amount  total_items payment_method  \\\n",
       "2153      2154       42      607        704000         2000    credit_card   \n",
       "3332      3333       42      607        704000         2000    credit_card   \n",
       "520        521       42      607        704000         2000    credit_card   \n",
       "1602      1603       42      607        704000         2000    credit_card   \n",
       "60          61       42      607        704000         2000    credit_card   \n",
       "...        ...      ...      ...           ...          ...            ...   \n",
       "3871      3872       92      818            90            1          debit   \n",
       "2503      2504       92      935            90            1    credit_card   \n",
       "4414      4415       92      927            90            1    credit_card   \n",
       "3363      3364       92      730            90            1    credit_card   \n",
       "2092      2093       92      986            90            1          debit   \n",
       "\n",
       "               created_at  \n",
       "2153   2017-03-12 4:00:00  \n",
       "3332   2017-03-24 4:00:00  \n",
       "520    2017-03-02 4:00:00  \n",
       "1602   2017-03-17 4:00:00  \n",
       "60     2017-03-04 4:00:00  \n",
       "...                   ...  \n",
       "3871   2017-03-18 9:10:08  \n",
       "2503   2017-03-28 2:30:26  \n",
       "4414   2017-03-17 9:57:01  \n",
       "3363  2017-03-11 23:20:31  \n",
       "2092   2017-03-04 6:44:05  \n",
       "\n",
       "[5000 rows x 7 columns]"
      ]
     },
     "execution_count": 4,
     "metadata": {},
     "output_type": "execute_result"
    }
   ],
   "source": [
    "df.sort_values(by='order_amount', ascending=False)"
   ]
  },
  {
   "cell_type": "code",
   "execution_count": 5,
   "metadata": {},
   "outputs": [
    {
     "data": {
      "text/plain": [
       "1       1830\n",
       "2       1832\n",
       "3        941\n",
       "4        293\n",
       "5         77\n",
       "6          9\n",
       "8          1\n",
       "2000      17\n",
       "Name: total_items, dtype: int64"
      ]
     },
     "execution_count": 5,
     "metadata": {},
     "output_type": "execute_result"
    }
   ],
   "source": [
    "df.total_items.value_counts().sort_index()"
   ]
  },
  {
   "cell_type": "code",
   "execution_count": 6,
   "metadata": {},
   "outputs": [
    {
     "data": {
      "text/plain": [
       "count    5000.00000\n",
       "mean        8.78720\n",
       "std       116.32032\n",
       "min         1.00000\n",
       "25%         1.00000\n",
       "50%         2.00000\n",
       "75%         3.00000\n",
       "max      2000.00000\n",
       "Name: total_items, dtype: float64"
      ]
     },
     "execution_count": 6,
     "metadata": {},
     "output_type": "execute_result"
    }
   ],
   "source": [
    "df.total_items.describe()"
   ]
  },
  {
   "cell_type": "code",
   "execution_count": 7,
   "metadata": {},
   "outputs": [
    {
     "name": "stdout",
     "output_type": "stream",
     "text": [
      "Total Item Measures:\n",
      "Median: 2.0\n",
      "Mode: 0    2\n",
      "dtype: int64\n",
      "Mean: 8.7872\n"
     ]
    }
   ],
   "source": [
    "print('Total Item Measures:')\n",
    "print('Median:', df['total_items'].median())\n",
    "print('Mode:', df['total_items'].mode())\n",
    "print('Mean:', df['total_items'].mean())"
   ]
  },
  {
   "cell_type": "code",
   "execution_count": 8,
   "metadata": {},
   "outputs": [
    {
     "name": "stdout",
     "output_type": "stream",
     "text": [
      "Order Amount Measures:\n",
      "Median: 284.0\n",
      "Mode: 0    153\n",
      "dtype: int64\n",
      "Mean: 3145.128\n"
     ]
    }
   ],
   "source": [
    "print('Order Amount Measures:')\n",
    "print('Median:', df['order_amount'].median())\n",
    "print('Mode:', df['order_amount'].mode())\n",
    "print('Mean:', df['order_amount'].mean())"
   ]
  },
  {
   "cell_type": "code",
   "execution_count": 18,
   "metadata": {},
   "outputs": [
    {
     "data": {
      "text/plain": [
       "count      5000.000000\n",
       "mean       3145.128000\n",
       "std       41282.539349\n",
       "min          90.000000\n",
       "25%         163.000000\n",
       "50%         284.000000\n",
       "75%         390.000000\n",
       "max      704000.000000\n",
       "Name: order_amount, dtype: float64"
      ]
     },
     "execution_count": 18,
     "metadata": {},
     "output_type": "execute_result"
    }
   ],
   "source": [
    "df.order_amount.describe()"
   ]
  },
  {
   "cell_type": "markdown",
   "metadata": {},
   "source": [
    "- There is skew in the data for order amount, so it impacts mean because it will skew the average higher.\n",
    "- Order and Item Amount by payment_method ?\n",
    "- Payment Method analysis\n",
    "- Find normal distribution"
   ]
  },
  {
   "cell_type": "code",
   "execution_count": 9,
   "metadata": {},
   "outputs": [
    {
     "data": {
      "text/plain": [
       "<AxesSubplot:xlabel='total_items', ylabel='order_amount'>"
      ]
     },
     "execution_count": 9,
     "metadata": {},
     "output_type": "execute_result"
    },
    {
     "data": {
      "image/png": "[encoded data removed]",
      "text/plain": [
       "<Figure size 432x288 with 1 Axes>"
      ]
     },
     "metadata": {
      "needs_background": "light"
     },
     "output_type": "display_data"
    }
   ],
   "source": [
    "sns.scatterplot(data=df, x=\"total_items\", y=\"order_amount\")"
   ]
  },
  {
   "cell_type": "code",
   "execution_count": 17,
   "metadata": {},
   "outputs": [
    {
     "data": {
      "text/plain": [
       "<seaborn.axisgrid.FacetGrid at 0x7fc518f7fa00>"
      ]
     },
     "execution_count": 17,
     "metadata": {},
     "output_type": "execute_result"
    },
    {
     "data": {
      "image/png": "[encoded data removed]",
      "text/plain": [
       "<Figure size 360x360 with 1 Axes>"
      ]
     },
     "metadata": {
      "needs_background": "light"
     },
     "output_type": "display_data"
    }
   ],
   "source": [
    "g = sns.displot(df.order_amount, bins=20)\n",
    "g\n",
    "g.set_xticklabels(rotation=30)\n"
   ]
  },
  {
   "cell_type": "code",
   "execution_count": 15,
   "metadata": {},
   "outputs": [
    {
     "data": {
      "text/plain": [
       "<seaborn.axisgrid.FacetGrid at 0x7fc5281418b0>"
      ]
     },
     "execution_count": 15,
     "metadata": {},
     "output_type": "execute_result"
    },
    {
     "data": {
      "image/png": "[encoded data removed]",
      "text/plain": [
       "<Figure size 360x360 with 1 Axes>"
      ]
     },
     "metadata": {
      "needs_background": "light"
     },
     "output_type": "display_data"
    }
   ],
   "source": [
    "h = sns.displot(df.total_items, bins=20)"
   ]
  },
  {
   "cell_type": "code",
   "execution_count": null,
   "metadata": {},
   "outputs": [],
   "source": []
  }
 ],
 "metadata": {
  "interpreter": {
   "hash": "85a859e3d0e196225b8ec7ab21d32126785282672a456e83e8e22f454559da93"
  },
  "kernelspec": {
   "display_name": "Python 3.9.7 64-bit ('ds': conda)",
   "language": "python",
   "name": "python3"
  },
  "language_info": {
   "codemirror_mode": {
    "name": "ipython",
    "version": 3
   },
   "file_extension": ".py",
   "mimetype": "text/x-python",
   "name": "python",
   "nbconvert_exporter": "python",
   "pygments_lexer": "ipython3",
   "version": "3.9.7"
  },
  "orig_nbformat": 4
 },
 "nbformat": 4,
 "nbformat_minor": 2
}
